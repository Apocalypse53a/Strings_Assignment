{
 "cells": [
  {
   "cell_type": "code",
   "execution_count": 1,
   "id": "5027c78a-3c56-4871-b440-fb7c09807eb8",
   "metadata": {},
   "outputs": [
    {
     "name": "stdout",
     "output_type": "stream",
     "text": [
      "aryan chatterjee\n"
     ]
    }
   ],
   "source": [
    "#Q1\n",
    "\n",
    "first_name = \"aryan\"\n",
    "last_name = \"chatterjee\"\n",
    "\n",
    "full_name = first_name + \" \" + last_name\n",
    "\n",
    "print(full_name)"
   ]
  },
  {
   "cell_type": "code",
   "execution_count": 7,
   "id": "5dfc8105-9b6e-4baa-9733-9c13b6dd607d",
   "metadata": {},
   "outputs": [
    {
     "name": "stdout",
     "output_type": "stream",
     "text": [
      "aryan chatterjee\n"
     ]
    }
   ],
   "source": [
    "#Q2\n",
    "\n",
    "# for + operator please refer Q1.\n",
    "\n",
    "first_name = \"aryan\"\n",
    "last_name = \"chatterjee\"\n",
    "\n",
    "name =[first_name,last_name]\n",
    "new_name = \" \".join(name)\n",
    "\n",
    "print(new_name)\n",
    "# + operator is fast if used for fewer strings.\n",
    "#join() function is more efficent when combining multiple strings."
   ]
  },
  {
   "cell_type": "code",
   "execution_count": 28,
   "id": "3c9eaca6-7dbe-49e3-89dc-f93431d71a34",
   "metadata": {},
   "outputs": [
    {
     "data": {
      "text/plain": [
       "'o'"
      ]
     },
     "execution_count": 28,
     "metadata": {},
     "output_type": "execute_result"
    }
   ],
   "source": [
    "#Q3\n",
    "name = \"rohit\"\n",
    "# for accessing individual characters in a string we can use indexing method.\n",
    "\n",
    "name[1]"
   ]
  },
  {
   "cell_type": "code",
   "execution_count": 33,
   "id": "ba2142ab-465d-47d4-924d-c0aa5cc03a6f",
   "metadata": {},
   "outputs": [
    {
     "data": {
      "text/plain": [
       "17"
      ]
     },
     "execution_count": 33,
     "metadata": {},
     "output_type": "execute_result"
    }
   ],
   "source": [
    "#Q4\n",
    "name = \"my name is aryan.\"\n",
    "len(name)"
   ]
  },
  {
   "cell_type": "code",
   "execution_count": 37,
   "id": "bece94b0-95a9-45c0-8a45-13fa2db679b6",
   "metadata": {},
   "outputs": [
    {
     "data": {
      "text/plain": [
       "'ARYAN'"
      ]
     },
     "execution_count": 37,
     "metadata": {},
     "output_type": "execute_result"
    }
   ],
   "source": [
    "#Q5\n",
    "\n",
    "name = \"aryan\"\n",
    "name.upper()"
   ]
  },
  {
   "cell_type": "code",
   "execution_count": 39,
   "id": "8efea816-5b15-441f-9d56-e85d600e7251",
   "metadata": {},
   "outputs": [
    {
     "data": {
      "text/plain": [
       "'aryan'"
      ]
     },
     "execution_count": 39,
     "metadata": {},
     "output_type": "execute_result"
    }
   ],
   "source": [
    "#Q6\n",
    "name = \"ARYAN\"\n",
    "name.lower()"
   ]
  },
  {
   "cell_type": "code",
   "execution_count": 1,
   "id": "5bdce38c-c547-4007-a027-d1d7327fa3db",
   "metadata": {},
   "outputs": [
    {
     "data": {
      "text/plain": [
       "'Aryan is learning python'"
      ]
     },
     "execution_count": 1,
     "metadata": {},
     "output_type": "execute_result"
    }
   ],
   "source": [
    "#Q7\n",
    "name = \"Aryan is learning java\"\n",
    "name.replace(\"java\",\"python\")\n",
    "\n",
    "\n"
   ]
  },
  {
   "cell_type": "code",
   "execution_count": 13,
   "id": "89f05b63-ddad-4552-8a95-0f344f8d1ff2",
   "metadata": {},
   "outputs": [
    {
     "data": {
      "text/plain": [
       "['Aryan', 'Chatterjee']"
      ]
     },
     "execution_count": 13,
     "metadata": {},
     "output_type": "execute_result"
    }
   ],
   "source": [
    "#Q8\n",
    "\n",
    "name = \"Aryan,Chatterjee\"\n",
    "\n",
    "name.split(\",\")\n",
    "\n"
   ]
  },
  {
   "cell_type": "code",
   "execution_count": 83,
   "id": "fc967de1-037e-4a23-bbc9-b2fd56f268f3",
   "metadata": {},
   "outputs": [
    {
     "data": {
      "text/plain": [
       "True"
      ]
     },
     "execution_count": 83,
     "metadata": {},
     "output_type": "execute_result"
    }
   ],
   "source": [
    "#9\n",
    "name = \"Aryan\"\n",
    "name.startswith(\"A\",0,len(name))"
   ]
  },
  {
   "cell_type": "code",
   "execution_count": 85,
   "id": "0b92e7e4-a1a4-4f5a-ae5b-a0025a27af26",
   "metadata": {},
   "outputs": [
    {
     "data": {
      "text/plain": [
       "True"
      ]
     },
     "execution_count": 85,
     "metadata": {},
     "output_type": "execute_result"
    }
   ],
   "source": [
    "#10\n",
    "name = \"Aryan\"\n",
    "name.endswith(\"n\",0,len(name))"
   ]
  },
  {
   "cell_type": "code",
   "execution_count": 19,
   "id": "f5a45454-c2c8-4287-aa18-d6908ade046b",
   "metadata": {},
   "outputs": [
    {
     "data": {
      "text/plain": [
       "'Aryan'"
      ]
     },
     "execution_count": 19,
     "metadata": {},
     "output_type": "execute_result"
    }
   ],
   "source": [
    "#11\n",
    "name = \"  Aryan \"\n",
    "name.strip()"
   ]
  },
  {
   "cell_type": "code",
   "execution_count": 27,
   "id": "9860a03a-2f0d-4ac8-8620-967727e7d500",
   "metadata": {},
   "outputs": [
    {
     "data": {
      "text/plain": [
       "9"
      ]
     },
     "execution_count": 27,
     "metadata": {},
     "output_type": "execute_result"
    }
   ],
   "source": [
    "#12\n",
    "text = \"Aryan is learning python\"\n",
    "text.find(\"learning\")"
   ]
  },
  {
   "cell_type": "code",
   "execution_count": 33,
   "id": "2b027d0b-9f38-4e74-bf6d-86c81faa9ee5",
   "metadata": {},
   "outputs": [
    {
     "data": {
      "text/plain": [
       "2"
      ]
     },
     "execution_count": 33,
     "metadata": {},
     "output_type": "execute_result"
    }
   ],
   "source": [
    "#13\n",
    "text = \"Aryan is learning python\"\n",
    "#text.count(\"a\")\n",
    "text.count(\"i\")"
   ]
  },
  {
   "cell_type": "code",
   "execution_count": 47,
   "id": "da9d9a9e-dd30-4339-8c20-9c901782154d",
   "metadata": {},
   "outputs": [
    {
     "data": {
      "text/plain": [
       "True"
      ]
     },
     "execution_count": 47,
     "metadata": {},
     "output_type": "execute_result"
    }
   ],
   "source": [
    "#14\n",
    "text = \"aryan\"\n",
    "text.isalpha()"
   ]
  },
  {
   "cell_type": "code",
   "execution_count": 51,
   "id": "f432a5ff-7471-4303-b1d5-101b6a42e215",
   "metadata": {},
   "outputs": [
    {
     "data": {
      "text/plain": [
       "True"
      ]
     },
     "execution_count": 51,
     "metadata": {},
     "output_type": "execute_result"
    }
   ],
   "source": [
    "#15\n",
    "number = \"123456\"\n",
    "number.isnumeric()"
   ]
  },
  {
   "cell_type": "code",
   "execution_count": 65,
   "id": "1d0b8029-6342-4323-8318-4ee627e7ed95",
   "metadata": {},
   "outputs": [
    {
     "name": "stdout",
     "output_type": "stream",
     "text": [
      "malayalam\n"
     ]
    },
    {
     "data": {
      "text/plain": [
       "True"
      ]
     },
     "execution_count": 65,
     "metadata": {},
     "output_type": "execute_result"
    }
   ],
   "source": [
    "#16\n",
    "name = \"malayalam\"\n",
    "name_reversed = \"\".join(reversed(name))\n",
    "print(name_reversed)\n",
    "name == name_reversed\n",
    "\n",
    "name2 =\"MOM\"\n",
    "name2 == name2[::-1]\n"
   ]
  },
  {
   "cell_type": "code",
   "execution_count": 69,
   "id": "13daaa6a-e604-4007-af9f-1fa9ffe6ecd3",
   "metadata": {},
   "outputs": [
    {
     "data": {
      "text/plain": [
       "'namredips'"
      ]
     },
     "execution_count": 69,
     "metadata": {},
     "output_type": "execute_result"
    }
   ],
   "source": [
    "#17\n",
    "name =\"spiderman\"\n",
    "name[::-1]"
   ]
  },
  {
   "cell_type": "code",
   "execution_count": 77,
   "id": "8de760fa-da8d-4244-adf6-13265a07cb9e",
   "metadata": {},
   "outputs": [
    {
     "name": "stdout",
     "output_type": "stream",
     "text": [
      "My name is Aryan and i'm 22 yrs old.\n"
     ]
    }
   ],
   "source": [
    "#18\n",
    "name = \"Aryan\"\n",
    "age = \"22\"\n",
    "print(f\"My name is {name} and i'm {age} yrs old.\")"
   ]
  },
  {
   "cell_type": "code",
   "execution_count": 79,
   "id": "a2fd73ca-1fac-49db-93da-eaab9d70ecf4",
   "metadata": {},
   "outputs": [
    {
     "data": {
      "text/plain": [
       "'ro'"
      ]
     },
     "execution_count": 79,
     "metadata": {},
     "output_type": "execute_result"
    }
   ],
   "source": [
    "#19\n",
    "name = \"rohit\"\n",
    "name[0:2:]"
   ]
  },
  {
   "cell_type": "code",
   "execution_count": 85,
   "id": "256aed50-9291-4593-9a6f-d42475b29bd0",
   "metadata": {},
   "outputs": [
    {
     "data": {
      "text/plain": [
       "'we are learning python'"
      ]
     },
     "execution_count": 85,
     "metadata": {},
     "output_type": "execute_result"
    }
   ],
   "source": [
    "#20\n",
    "text = \"we are learning python!\"\n",
    "text.replace(\"!\",\"\")\n",
    "\n"
   ]
  },
  {
   "cell_type": "code",
   "execution_count": null,
   "id": "6fa09edd-bafd-42c9-84b6-b165e84f0f0e",
   "metadata": {},
   "outputs": [],
   "source": []
  },
  {
   "cell_type": "code",
   "execution_count": 79,
   "id": "9b3269b0-727d-4b6e-a1f1-65acea9177d8",
   "metadata": {},
   "outputs": [
    {
     "name": "stdout",
     "output_type": "stream",
     "text": [
      "Help on class str in module builtins:\n",
      "\n",
      "class str(object)\n",
      " |  str(object='') -> str\n",
      " |  str(bytes_or_buffer[, encoding[, errors]]) -> str\n",
      " |\n",
      " |  Create a new string object from the given object. If encoding or\n",
      " |  errors is specified, then the object must expose a data buffer\n",
      " |  that will be decoded using the given encoding and error handler.\n",
      " |  Otherwise, returns the result of object.__str__() (if defined)\n",
      " |  or repr(object).\n",
      " |  encoding defaults to sys.getdefaultencoding().\n",
      " |  errors defaults to 'strict'.\n",
      " |\n",
      " |  Methods defined here:\n",
      " |\n",
      " |  __add__(self, value, /)\n",
      " |      Return self+value.\n",
      " |\n",
      " |  __contains__(self, key, /)\n",
      " |      Return bool(key in self).\n",
      " |\n",
      " |  __eq__(self, value, /)\n",
      " |      Return self==value.\n",
      " |\n",
      " |  __format__(self, format_spec, /)\n",
      " |      Return a formatted version of the string as described by format_spec.\n",
      " |\n",
      " |  __ge__(self, value, /)\n",
      " |      Return self>=value.\n",
      " |\n",
      " |  __getitem__(self, key, /)\n",
      " |      Return self[key].\n",
      " |\n",
      " |  __getnewargs__(...)\n",
      " |\n",
      " |  __gt__(self, value, /)\n",
      " |      Return self>value.\n",
      " |\n",
      " |  __hash__(self, /)\n",
      " |      Return hash(self).\n",
      " |\n",
      " |  __iter__(self, /)\n",
      " |      Implement iter(self).\n",
      " |\n",
      " |  __le__(self, value, /)\n",
      " |      Return self<=value.\n",
      " |\n",
      " |  __len__(self, /)\n",
      " |      Return len(self).\n",
      " |\n",
      " |  __lt__(self, value, /)\n",
      " |      Return self<value.\n",
      " |\n",
      " |  __mod__(self, value, /)\n",
      " |      Return self%value.\n",
      " |\n",
      " |  __mul__(self, value, /)\n",
      " |      Return self*value.\n",
      " |\n",
      " |  __ne__(self, value, /)\n",
      " |      Return self!=value.\n",
      " |\n",
      " |  __repr__(self, /)\n",
      " |      Return repr(self).\n",
      " |\n",
      " |  __rmod__(self, value, /)\n",
      " |      Return value%self.\n",
      " |\n",
      " |  __rmul__(self, value, /)\n",
      " |      Return value*self.\n",
      " |\n",
      " |  __sizeof__(self, /)\n",
      " |      Return the size of the string in memory, in bytes.\n",
      " |\n",
      " |  __str__(self, /)\n",
      " |      Return str(self).\n",
      " |\n",
      " |  capitalize(self, /)\n",
      " |      Return a capitalized version of the string.\n",
      " |\n",
      " |      More specifically, make the first character have upper case and the rest lower\n",
      " |      case.\n",
      " |\n",
      " |  casefold(self, /)\n",
      " |      Return a version of the string suitable for caseless comparisons.\n",
      " |\n",
      " |  center(self, width, fillchar=' ', /)\n",
      " |      Return a centered string of length width.\n",
      " |\n",
      " |      Padding is done using the specified fill character (default is a space).\n",
      " |\n",
      " |  count(...)\n",
      " |      S.count(sub[, start[, end]]) -> int\n",
      " |\n",
      " |      Return the number of non-overlapping occurrences of substring sub in\n",
      " |      string S[start:end].  Optional arguments start and end are\n",
      " |      interpreted as in slice notation.\n",
      " |\n",
      " |  encode(self, /, encoding='utf-8', errors='strict')\n",
      " |      Encode the string using the codec registered for encoding.\n",
      " |\n",
      " |      encoding\n",
      " |        The encoding in which to encode the string.\n",
      " |      errors\n",
      " |        The error handling scheme to use for encoding errors.\n",
      " |        The default is 'strict' meaning that encoding errors raise a\n",
      " |        UnicodeEncodeError.  Other possible values are 'ignore', 'replace' and\n",
      " |        'xmlcharrefreplace' as well as any other name registered with\n",
      " |        codecs.register_error that can handle UnicodeEncodeErrors.\n",
      " |\n",
      " |  endswith(...)\n",
      " |      S.endswith(suffix[, start[, end]]) -> bool\n",
      " |\n",
      " |      Return True if S ends with the specified suffix, False otherwise.\n",
      " |      With optional start, test S beginning at that position.\n",
      " |      With optional end, stop comparing S at that position.\n",
      " |      suffix can also be a tuple of strings to try.\n",
      " |\n",
      " |  expandtabs(self, /, tabsize=8)\n",
      " |      Return a copy where all tab characters are expanded using spaces.\n",
      " |\n",
      " |      If tabsize is not given, a tab size of 8 characters is assumed.\n",
      " |\n",
      " |  find(...)\n",
      " |      S.find(sub[, start[, end]]) -> int\n",
      " |\n",
      " |      Return the lowest index in S where substring sub is found,\n",
      " |      such that sub is contained within S[start:end].  Optional\n",
      " |      arguments start and end are interpreted as in slice notation.\n",
      " |\n",
      " |      Return -1 on failure.\n",
      " |\n",
      " |  format(...)\n",
      " |      S.format(*args, **kwargs) -> str\n",
      " |\n",
      " |      Return a formatted version of S, using substitutions from args and kwargs.\n",
      " |      The substitutions are identified by braces ('{' and '}').\n",
      " |\n",
      " |  format_map(...)\n",
      " |      S.format_map(mapping) -> str\n",
      " |\n",
      " |      Return a formatted version of S, using substitutions from mapping.\n",
      " |      The substitutions are identified by braces ('{' and '}').\n",
      " |\n",
      " |  index(...)\n",
      " |      S.index(sub[, start[, end]]) -> int\n",
      " |\n",
      " |      Return the lowest index in S where substring sub is found,\n",
      " |      such that sub is contained within S[start:end].  Optional\n",
      " |      arguments start and end are interpreted as in slice notation.\n",
      " |\n",
      " |      Raises ValueError when the substring is not found.\n",
      " |\n",
      " |  isalnum(self, /)\n",
      " |      Return True if the string is an alpha-numeric string, False otherwise.\n",
      " |\n",
      " |      A string is alpha-numeric if all characters in the string are alpha-numeric and\n",
      " |      there is at least one character in the string.\n",
      " |\n",
      " |  isalpha(self, /)\n",
      " |      Return True if the string is an alphabetic string, False otherwise.\n",
      " |\n",
      " |      A string is alphabetic if all characters in the string are alphabetic and there\n",
      " |      is at least one character in the string.\n",
      " |\n",
      " |  isascii(self, /)\n",
      " |      Return True if all characters in the string are ASCII, False otherwise.\n",
      " |\n",
      " |      ASCII characters have code points in the range U+0000-U+007F.\n",
      " |      Empty string is ASCII too.\n",
      " |\n",
      " |  isdecimal(self, /)\n",
      " |      Return True if the string is a decimal string, False otherwise.\n",
      " |\n",
      " |      A string is a decimal string if all characters in the string are decimal and\n",
      " |      there is at least one character in the string.\n",
      " |\n",
      " |  isdigit(self, /)\n",
      " |      Return True if the string is a digit string, False otherwise.\n",
      " |\n",
      " |      A string is a digit string if all characters in the string are digits and there\n",
      " |      is at least one character in the string.\n",
      " |\n",
      " |  isidentifier(self, /)\n",
      " |      Return True if the string is a valid Python identifier, False otherwise.\n",
      " |\n",
      " |      Call keyword.iskeyword(s) to test whether string s is a reserved identifier,\n",
      " |      such as \"def\" or \"class\".\n",
      " |\n",
      " |  islower(self, /)\n",
      " |      Return True if the string is a lowercase string, False otherwise.\n",
      " |\n",
      " |      A string is lowercase if all cased characters in the string are lowercase and\n",
      " |      there is at least one cased character in the string.\n",
      " |\n",
      " |  isnumeric(self, /)\n",
      " |      Return True if the string is a numeric string, False otherwise.\n",
      " |\n",
      " |      A string is numeric if all characters in the string are numeric and there is at\n",
      " |      least one character in the string.\n",
      " |\n",
      " |  isprintable(self, /)\n",
      " |      Return True if the string is printable, False otherwise.\n",
      " |\n",
      " |      A string is printable if all of its characters are considered printable in\n",
      " |      repr() or if it is empty.\n",
      " |\n",
      " |  isspace(self, /)\n",
      " |      Return True if the string is a whitespace string, False otherwise.\n",
      " |\n",
      " |      A string is whitespace if all characters in the string are whitespace and there\n",
      " |      is at least one character in the string.\n",
      " |\n",
      " |  istitle(self, /)\n",
      " |      Return True if the string is a title-cased string, False otherwise.\n",
      " |\n",
      " |      In a title-cased string, upper- and title-case characters may only\n",
      " |      follow uncased characters and lowercase characters only cased ones.\n",
      " |\n",
      " |  isupper(self, /)\n",
      " |      Return True if the string is an uppercase string, False otherwise.\n",
      " |\n",
      " |      A string is uppercase if all cased characters in the string are uppercase and\n",
      " |      there is at least one cased character in the string.\n",
      " |\n",
      " |  join(self, iterable, /)\n",
      " |      Concatenate any number of strings.\n",
      " |\n",
      " |      The string whose method is called is inserted in between each given string.\n",
      " |      The result is returned as a new string.\n",
      " |\n",
      " |      Example: '.'.join(['ab', 'pq', 'rs']) -> 'ab.pq.rs'\n",
      " |\n",
      " |  ljust(self, width, fillchar=' ', /)\n",
      " |      Return a left-justified string of length width.\n",
      " |\n",
      " |      Padding is done using the specified fill character (default is a space).\n",
      " |\n",
      " |  lower(self, /)\n",
      " |      Return a copy of the string converted to lowercase.\n",
      " |\n",
      " |  lstrip(self, chars=None, /)\n",
      " |      Return a copy of the string with leading whitespace removed.\n",
      " |\n",
      " |      If chars is given and not None, remove characters in chars instead.\n",
      " |\n",
      " |  partition(self, sep, /)\n",
      " |      Partition the string into three parts using the given separator.\n",
      " |\n",
      " |      This will search for the separator in the string.  If the separator is found,\n",
      " |      returns a 3-tuple containing the part before the separator, the separator\n",
      " |      itself, and the part after it.\n",
      " |\n",
      " |      If the separator is not found, returns a 3-tuple containing the original string\n",
      " |      and two empty strings.\n",
      " |\n",
      " |  removeprefix(self, prefix, /)\n",
      " |      Return a str with the given prefix string removed if present.\n",
      " |\n",
      " |      If the string starts with the prefix string, return string[len(prefix):].\n",
      " |      Otherwise, return a copy of the original string.\n",
      " |\n",
      " |  removesuffix(self, suffix, /)\n",
      " |      Return a str with the given suffix string removed if present.\n",
      " |\n",
      " |      If the string ends with the suffix string and that suffix is not empty,\n",
      " |      return string[:-len(suffix)]. Otherwise, return a copy of the original\n",
      " |      string.\n",
      " |\n",
      " |  replace(self, old, new, count=-1, /)\n",
      " |      Return a copy with all occurrences of substring old replaced by new.\n",
      " |\n",
      " |        count\n",
      " |          Maximum number of occurrences to replace.\n",
      " |          -1 (the default value) means replace all occurrences.\n",
      " |\n",
      " |      If the optional argument count is given, only the first count occurrences are\n",
      " |      replaced.\n",
      " |\n",
      " |  rfind(...)\n",
      " |      S.rfind(sub[, start[, end]]) -> int\n",
      " |\n",
      " |      Return the highest index in S where substring sub is found,\n",
      " |      such that sub is contained within S[start:end].  Optional\n",
      " |      arguments start and end are interpreted as in slice notation.\n",
      " |\n",
      " |      Return -1 on failure.\n",
      " |\n",
      " |  rindex(...)\n",
      " |      S.rindex(sub[, start[, end]]) -> int\n",
      " |\n",
      " |      Return the highest index in S where substring sub is found,\n",
      " |      such that sub is contained within S[start:end].  Optional\n",
      " |      arguments start and end are interpreted as in slice notation.\n",
      " |\n",
      " |      Raises ValueError when the substring is not found.\n",
      " |\n",
      " |  rjust(self, width, fillchar=' ', /)\n",
      " |      Return a right-justified string of length width.\n",
      " |\n",
      " |      Padding is done using the specified fill character (default is a space).\n",
      " |\n",
      " |  rpartition(self, sep, /)\n",
      " |      Partition the string into three parts using the given separator.\n",
      " |\n",
      " |      This will search for the separator in the string, starting at the end. If\n",
      " |      the separator is found, returns a 3-tuple containing the part before the\n",
      " |      separator, the separator itself, and the part after it.\n",
      " |\n",
      " |      If the separator is not found, returns a 3-tuple containing two empty strings\n",
      " |      and the original string.\n",
      " |\n",
      " |  rsplit(self, /, sep=None, maxsplit=-1)\n",
      " |      Return a list of the substrings in the string, using sep as the separator string.\n",
      " |\n",
      " |        sep\n",
      " |          The separator used to split the string.\n",
      " |\n",
      " |          When set to None (the default value), will split on any whitespace\n",
      " |          character (including \\n \\r \\t \\f and spaces) and will discard\n",
      " |          empty strings from the result.\n",
      " |        maxsplit\n",
      " |          Maximum number of splits.\n",
      " |          -1 (the default value) means no limit.\n",
      " |\n",
      " |      Splitting starts at the end of the string and works to the front.\n",
      " |\n",
      " |  rstrip(self, chars=None, /)\n",
      " |      Return a copy of the string with trailing whitespace removed.\n",
      " |\n",
      " |      If chars is given and not None, remove characters in chars instead.\n",
      " |\n",
      " |  split(self, /, sep=None, maxsplit=-1)\n",
      " |      Return a list of the substrings in the string, using sep as the separator string.\n",
      " |\n",
      " |        sep\n",
      " |          The separator used to split the string.\n",
      " |\n",
      " |          When set to None (the default value), will split on any whitespace\n",
      " |          character (including \\n \\r \\t \\f and spaces) and will discard\n",
      " |          empty strings from the result.\n",
      " |        maxsplit\n",
      " |          Maximum number of splits.\n",
      " |          -1 (the default value) means no limit.\n",
      " |\n",
      " |      Splitting starts at the front of the string and works to the end.\n",
      " |\n",
      " |      Note, str.split() is mainly useful for data that has been intentionally\n",
      " |      delimited.  With natural text that includes punctuation, consider using\n",
      " |      the regular expression module.\n",
      " |\n",
      " |  splitlines(self, /, keepends=False)\n",
      " |      Return a list of the lines in the string, breaking at line boundaries.\n",
      " |\n",
      " |      Line breaks are not included in the resulting list unless keepends is given and\n",
      " |      true.\n",
      " |\n",
      " |  startswith(...)\n",
      " |      S.startswith(prefix[, start[, end]]) -> bool\n",
      " |\n",
      " |      Return True if S starts with the specified prefix, False otherwise.\n",
      " |      With optional start, test S beginning at that position.\n",
      " |      With optional end, stop comparing S at that position.\n",
      " |      prefix can also be a tuple of strings to try.\n",
      " |\n",
      " |  strip(self, chars=None, /)\n",
      " |      Return a copy of the string with leading and trailing whitespace removed.\n",
      " |\n",
      " |      If chars is given and not None, remove characters in chars instead.\n",
      " |\n",
      " |  swapcase(self, /)\n",
      " |      Convert uppercase characters to lowercase and lowercase characters to uppercase.\n",
      " |\n",
      " |  title(self, /)\n",
      " |      Return a version of the string where each word is titlecased.\n",
      " |\n",
      " |      More specifically, words start with uppercased characters and all remaining\n",
      " |      cased characters have lower case.\n",
      " |\n",
      " |  translate(self, table, /)\n",
      " |      Replace each character in the string using the given translation table.\n",
      " |\n",
      " |        table\n",
      " |          Translation table, which must be a mapping of Unicode ordinals to\n",
      " |          Unicode ordinals, strings, or None.\n",
      " |\n",
      " |      The table must implement lookup/indexing via __getitem__, for instance a\n",
      " |      dictionary or list.  If this operation raises LookupError, the character is\n",
      " |      left untouched.  Characters mapped to None are deleted.\n",
      " |\n",
      " |  upper(self, /)\n",
      " |      Return a copy of the string converted to uppercase.\n",
      " |\n",
      " |  zfill(self, width, /)\n",
      " |      Pad a numeric string with zeros on the left, to fill a field of the given width.\n",
      " |\n",
      " |      The string is never truncated.\n",
      " |\n",
      " |  ----------------------------------------------------------------------\n",
      " |  Static methods defined here:\n",
      " |\n",
      " |  __new__(*args, **kwargs)\n",
      " |      Create and return a new object.  See help(type) for accurate signature.\n",
      " |\n",
      " |  maketrans(...)\n",
      " |      Return a translation table usable for str.translate().\n",
      " |\n",
      " |      If there is only one argument, it must be a dictionary mapping Unicode\n",
      " |      ordinals (integers) or characters to Unicode ordinals, strings or None.\n",
      " |      Character keys will be then converted to ordinals.\n",
      " |      If there are two arguments, they must be strings of equal length, and\n",
      " |      in the resulting dictionary, each character in x will be mapped to the\n",
      " |      character at the same position in y. If there is a third argument, it\n",
      " |      must be a string, whose characters will be mapped to None in the result.\n",
      "\n"
     ]
    }
   ],
   "source": [
    "help(str)"
   ]
  },
  {
   "cell_type": "code",
   "execution_count": null,
   "id": "4f49b4d7-85c1-4d54-a95d-9c2e9020824a",
   "metadata": {},
   "outputs": [],
   "source": []
  }
 ],
 "metadata": {
  "kernelspec": {
   "display_name": "Python [conda env:base] *",
   "language": "python",
   "name": "conda-base-py"
  },
  "language_info": {
   "codemirror_mode": {
    "name": "ipython",
    "version": 3
   },
   "file_extension": ".py",
   "mimetype": "text/x-python",
   "name": "python",
   "nbconvert_exporter": "python",
   "pygments_lexer": "ipython3",
   "version": "3.12.7"
  }
 },
 "nbformat": 4,
 "nbformat_minor": 5
}
